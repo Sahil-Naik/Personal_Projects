{
 "cells": [
  {
   "cell_type": "code",
   "execution_count": 12,
   "id": "738e7b98",
   "metadata": {},
   "outputs": [
    {
     "name": "stdout",
     "output_type": "stream",
     "text": [
      "Enter a string: githubhub\n",
      "Entered string is: githubhub\n",
      "Enter a character: u\n",
      "u occured 2 times\n"
     ]
    }
   ],
   "source": [
    "get = input(\"Enter a string: \")\n",
    "print(\"Entered string is: {}\".format(get))\n",
    "srch = input(\"Enter a character: \")\n",
    "count=0\n",
    "\n",
    "for i in get:\n",
    "    if i == srch:\n",
    "        count+=2\n",
    "        \n",
    "print(\"{} occured {} times\".format(srch,count))"
   ]
  }
 ],
 "metadata": {
  "kernelspec": {
   "display_name": "Python 3",
   "language": "python",
   "name": "python3"
  },
  "language_info": {
   "codemirror_mode": {
    "name": "ipython",
    "version": 3
   },
   "file_extension": ".py",
   "mimetype": "text/x-python",
   "name": "python",
   "nbconvert_exporter": "python",
   "pygments_lexer": "ipython3",
   "version": "3.8.8"
  }
 },
 "nbformat": 4,
 "nbformat_minor": 5
}

{
 "cells": [
  {
   "cell_type": "code",
   "execution_count": 13,
   "id": "6eb9a270",
   "metadata": {},
   "outputs": [
    {
     "name": "stdout",
     "output_type": "stream",
     "text": [
      "Enter: aabbcddefc\n",
      "e is the first non-repeated character!\n"
     ]
    }
   ],
   "source": [
    "get = input(\"Enter: \")\n",
    "\n",
    "def first_non_rep(string):\n",
    "    lis = [x for x in string]\n",
    "    count = []\n",
    "    for i in lis:\n",
    "        temp = string.count(i)\n",
    "        count.append(temp)\n",
    "    for i2 in count:\n",
    "        if i2==1:\n",
    "            temp2 = count.index(i2)\n",
    "            print(\"{} is the first non-repeated character!\".format(lis[temp2]))\n",
    "            break\n",
    "\n",
    "first_non_rep(get)"
   ]
  }
 ],
 "metadata": {
  "kernelspec": {
   "display_name": "Python 3",
   "language": "python",
   "name": "python3"
  },
  "language_info": {
   "codemirror_mode": {
    "name": "ipython",
    "version": 3
   },
   "file_extension": ".py",
   "mimetype": "text/x-python",
   "name": "python",
   "nbconvert_exporter": "python",
   "pygments_lexer": "ipython3",
   "version": "3.8.8"
  }
 },
 "nbformat": 4,
 "nbformat_minor": 5
}

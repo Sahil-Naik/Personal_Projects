{
 "cells": [
  {
   "cell_type": "code",
   "execution_count": 17,
   "id": "741f1b59",
   "metadata": {},
   "outputs": [
    {
     "name": "stdout",
     "output_type": "stream",
     "text": [
      "3 Fizz\n",
      "5 Buzz\n",
      "6 Fizz\n",
      "9 Fizz\n",
      "10 Buzz\n",
      "12 Fizz\n",
      "15 FizzBuzz\n"
     ]
    }
   ],
   "source": [
    "# Define a range of number to identify Fizz, Buzz & FizzBuzz among them.\n",
    "number_range = [i+1 for i in range(15)]\n",
    "getn = []        # List to store multiples of n*3*5, where n = 1,2,3...\n",
    "\n",
    "\n",
    "# Below loop stores n*3*5 numbers from given range.\n",
    "for test in range(50):\n",
    "    if test*3*5 in number_range:\n",
    "        getn.append(test*3*5)\n",
    "\n",
    "\n",
    "# Iterate over given range. If multiple of 3 print Fizz, if multiple of 5 print Buzz else multiple of 5*3 print FizzBuzz\n",
    "for i2 in number_range:\n",
    "    if i2%3==0 and i2 not in getn:\n",
    "        print(\"{} Fizz\".format(i2))\n",
    "        \n",
    "    elif i2%5==0 and i2 not in getn:\n",
    "        print(\"{} Buzz\".format(i2))\n",
    "    elif i2 in getn:\n",
    "        \n",
    "        print(\"{} FizzBuzz\".format(i2))"
   ]
  }
 ],
 "metadata": {
  "kernelspec": {
   "display_name": "Python 3",
   "language": "python",
   "name": "python3"
  },
  "language_info": {
   "codemirror_mode": {
    "name": "ipython",
    "version": 3
   },
   "file_extension": ".py",
   "mimetype": "text/x-python",
   "name": "python",
   "nbconvert_exporter": "python",
   "pygments_lexer": "ipython3",
   "version": "3.8.8"
  }
 },
 "nbformat": 4,
 "nbformat_minor": 5
}

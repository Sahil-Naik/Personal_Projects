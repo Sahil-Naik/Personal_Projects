{
 "cells": [
  {
   "cell_type": "code",
   "execution_count": 15,
   "id": "e63e7fe3",
   "metadata": {},
   "outputs": [
    {
     "name": "stdout",
     "output_type": "stream",
     "text": [
      "Given array ranges from 1 to 12\n",
      "\n",
      "1 is present in array\n",
      "2 is present in array\n",
      "3 is present in array\n",
      "4 is not present in array\n",
      "5 is present in array\n",
      "6 is present in array\n",
      "7 is present in array\n",
      "8 is not present in array\n",
      "9 is present in array\n",
      "10 is not present in array\n",
      "11 is not present in array\n",
      "12 is present in array\n"
     ]
    }
   ],
   "source": [
    "def Missing_Number(array,n):\n",
    "    for i1 in range(n):\n",
    "        if (i1+1) in array:\n",
    "            print(\"{} is present in array\".format(i1+1))\n",
    "        else:\n",
    "            print(\"{} is not present in array\".format(i1+1))\n",
    "    \n",
    "a_list = [1,2,3,5,6,7,9,12]\n",
    "no = a_list[-1]\n",
    "print(\"Given array ranges from {} to {}\\n\".format(a_list[0],a_list[-1]))\n",
    "Missing_Number(a_list,no)"
   ]
  }
 ],
 "metadata": {
  "kernelspec": {
   "display_name": "Python 3",
   "language": "python",
   "name": "python3"
  },
  "language_info": {
   "codemirror_mode": {
    "name": "ipython",
    "version": 3
   },
   "file_extension": ".py",
   "mimetype": "text/x-python",
   "name": "python",
   "nbconvert_exporter": "python",
   "pygments_lexer": "ipython3",
   "version": "3.8.8"
  }
 },
 "nbformat": 4,
 "nbformat_minor": 5
}

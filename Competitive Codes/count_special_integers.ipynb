{
 "cells": [
  {
   "cell_type": "code",
   "execution_count": 16,
   "id": "3486bb92",
   "metadata": {},
   "outputs": [
    {
     "name": "stdout",
     "output_type": "stream",
     "text": [
      "Enter a number: 233541\n",
      "There are 4 unique charachets.\n",
      "There are 1 non-unique characters.\n"
     ]
    }
   ],
   "source": [
    "user = input(\"Enter a number: \")\n",
    "\n",
    "temp_list = list(user)\n",
    "non_uni = []\n",
    "uni = []\n",
    "\n",
    "for i in temp_list:\n",
    "    if temp_list.count(i)!=1 and i not in uni:\n",
    "        non_uni.append(i)\n",
    "    else:\n",
    "        uni.append(i)\n",
    "        \n",
    "print(\"There are {} unique characters.\\nThere are {} non-unique characters.\".format(len(uni),len(set(non_uni))))"
   ]
  }
 ],
 "metadata": {
  "kernelspec": {
   "display_name": "Python 3",
   "language": "python",
   "name": "python3"
  },
  "language_info": {
   "codemirror_mode": {
    "name": "ipython",
    "version": 3
   },
   "file_extension": ".py",
   "mimetype": "text/x-python",
   "name": "python",
   "nbconvert_exporter": "python",
   "pygments_lexer": "ipython3",
   "version": "3.8.8"
  }
 },
 "nbformat": 4,
 "nbformat_minor": 5
}
